{
  "nbformat": 4,
  "nbformat_minor": 0,
  "metadata": {
    "colab": {
      "name": "OTA.ipynb",
      "private_outputs": true,
      "provenance": [],
      "collapsed_sections": []
    },
    "kernelspec": {
      "name": "python3",
      "display_name": "Python 3"
    }
  },
  "cells": [
    {
      "cell_type": "code",
      "metadata": {
        "id": "GkAo1eh2Y6gQ"
      },
      "source": [
        "from google.colab import drive\r\n",
        "drive.mount('/content/drive')"
      ],
      "execution_count": null,
      "outputs": []
    },
    {
      "cell_type": "code",
      "metadata": {
        "id": "eb9mxGCjR61w"
      },
      "source": [
        "import pandas as pd\r\n",
        "path = \"/content/drive/MyDrive/train_small.csv\"\r\n",
        "df = pd.read_csv(path)"
      ],
      "execution_count": null,
      "outputs": []
    },
    {
      "cell_type": "code",
      "metadata": {
        "id": "vKCYmpvwR7pD"
      },
      "source": [
        "df"
      ],
      "execution_count": null,
      "outputs": []
    },
    {
      "cell_type": "code",
      "metadata": {
        "id": "1r4JCfZSZhuB"
      },
      "source": [
        "df.head()"
      ],
      "execution_count": null,
      "outputs": []
    },
    {
      "cell_type": "markdown",
      "metadata": {
        "id": "J_xW0sUu5gHN"
      },
      "source": [
        ""
      ]
    },
    {
      "cell_type": "code",
      "metadata": {
        "id": "efBnBsdLZjyP"
      },
      "source": [
        "df.tail()"
      ],
      "execution_count": null,
      "outputs": []
    },
    {
      "cell_type": "code",
      "metadata": {
        "id": "vHQ2rikDZpB4"
      },
      "source": [
        "df.shape"
      ],
      "execution_count": null,
      "outputs": []
    },
    {
      "cell_type": "code",
      "metadata": {
        "id": "uJszBKNjZ7dL"
      },
      "source": [
        "df.dtypes"
      ],
      "execution_count": null,
      "outputs": []
    },
    {
      "cell_type": "code",
      "metadata": {
        "id": "eHMvKnUQZ9cC"
      },
      "source": [
        "df.info()"
      ],
      "execution_count": null,
      "outputs": []
    },
    {
      "cell_type": "code",
      "metadata": {
        "id": "k1dCfkPecz6d"
      },
      "source": [
        "df.describe()"
      ],
      "execution_count": null,
      "outputs": []
    },
    {
      "cell_type": "code",
      "metadata": {
        "id": "d2nnfwVKdHN_"
      },
      "source": [
        "df.isnull().sum()"
      ],
      "execution_count": null,
      "outputs": []
    },
    {
      "cell_type": "code",
      "metadata": {
        "id": "bBmW1AoCdmVN"
      },
      "source": [
        "# Replace NaNs in column booking_value with the mean of values in the same column\r\n",
        "\r\n",
        "df['booking_value'].fillna(value=df['booking_value'].mean(), inplace=True)\r\n",
        "\r\n",
        "df['competitor8_price_percent_diff'].fillna(value=df['competitor8_price_percent_diff'].mean(), inplace=True)\r\n",
        "df['competitor8_has_availability'].fillna(value=df['competitor8_has_availability'].mean(), inplace=True)\r\n",
        "df['competitor8_rate'].fillna(value=df['competitor8_rate'].mean(), inplace=True)\r\n",
        "df['user_hist_stars'].fillna(value=df['user_hist_stars'].mean(), inplace=True)\r\n",
        "df['user_hist_paid'].fillna(value=df['user_hist_paid'].mean(), inplace=True)\r\n",
        "df['listing_review_score'].fillna(value=df['listing_review_score'].mean(), inplace=True)\r\n",
        "df['location_score2'].fillna(value=df['location_score2'].mean(), inplace=True)\r\n",
        "df['log_click_proportion'].fillna(value=df['log_click_proportion'].mean(), inplace=True)\r\n",
        "df['distance_to_dest'].fillna(value=df['distance_to_dest'].mean(), inplace=True)\r\n",
        "\r\n",
        "\r\n",
        "df['competitor1_rate'].fillna(value=df['competitor1_rate'].mean(), inplace=True)\r\n",
        "df['competitor1_has_availability'].fillna(value=df['competitor1_has_availability'].mean(), inplace=True)\r\n",
        "df['competitor1_price_percent_diff'].fillna(value=df['competitor1_price_percent_diff'].mean(), inplace=True)\r\n",
        "\r\n",
        "df['competitor2_rate'].fillna(value=df['competitor2_rate'].mean(), inplace=True)\r\n",
        "df['competitor2_has_availability'].fillna(value=df['competitor2_has_availability'].mean(), inplace=True)\r\n",
        "df['competitor2_price_percent_diff'].fillna(value=df['competitor2_price_percent_diff'].mean(), inplace=True)\r\n",
        "\r\n",
        "df['competitor3_rate'].fillna(value=df['competitor3_rate'].mean(), inplace=True)\r\n",
        "df['competitor3_has_availability'].fillna(value=df['competitor3_has_availability'].mean(), inplace=True)\r\n",
        "df['competitor3_price_percent_diff'].fillna(value=df['competitor3_price_percent_diff'].mean(), inplace=True)\r\n",
        "\r\n",
        "df['competitor4_rate'].fillna(value=df['competitor4_rate'].mean(), inplace=True)\r\n",
        "df['competitor4_has_availability'].fillna(value=df['competitor4_has_availability'].mean(), inplace=True)\r\n",
        "df['competitor4_price_percent_diff'].fillna(value=df['competitor4_price_percent_diff'].mean(), inplace=True)\r\n",
        "\r\n",
        "df['competitor5_rate'].fillna(value=df['competitor5_rate'].mean(), inplace=True)\r\n",
        "df['competitor5_has_availability'].fillna(value=df['competitor5_has_availability'].mean(), inplace=True)\r\n",
        "df['competitor5_price_percent_diff'].fillna(value=df['competitor5_price_percent_diff'].mean(), inplace=True)\r\n",
        "\r\n",
        "df['competitor6_rate'].fillna(value=df['competitor6_rate'].mean(), inplace=True)\r\n",
        "df['competitor6_has_availability'].fillna(value=df['competitor6_has_availability'].mean(), inplace=True)\r\n",
        "df['competitor6_price_percent_diff'].fillna(value=df['competitor6_price_percent_diff'].mean(), inplace=True)\r\n",
        "\r\n",
        "df['competitor7_rate'].fillna(value=df['competitor7_rate'].mean(), inplace=True)\r\n",
        "df['competitor7_has_availability'].fillna(value=df['competitor7_has_availability'].mean(), inplace=True)\r\n",
        "df['competitor7_price_percent_diff'].fillna(value=df['competitor7_price_percent_diff'].mean(), inplace=True)\r\n"
      ],
      "execution_count": null,
      "outputs": []
    },
    {
      "cell_type": "code",
      "metadata": {
        "id": "udyWM7kWox8f"
      },
      "source": [
        "df.isnull().sum()"
      ],
      "execution_count": null,
      "outputs": []
    },
    {
      "cell_type": "code",
      "metadata": {
        "id": "7B1zEiVz4sIl"
      },
      "source": [
        "df['timestamp'] = df['timestamp'].astype('datetime64[ns]')"
      ],
      "execution_count": null,
      "outputs": []
    },
    {
      "cell_type": "code",
      "metadata": {
        "id": "w4uh7CjA3Gaj"
      },
      "source": [
        "from statsmodels.stats.outliers_influence import variance_inflation_factor\r\n",
        "\r\n",
        "import pandas.util.testing as tm\r\n",
        "\r\n",
        "X = df\r\n",
        "\r\n",
        "# VIF dataframe\r\n",
        "vif_data = pd.DataFrame()\r\n",
        "vif_data['feature'] = X.columns\r\n",
        "\r\n",
        "# calculating VIF for each feature\r\n",
        "vif_data['VIF'] = [variance_inflation_factor(X.values, i) for i in range(len(X.columns))]\r\n",
        "\r\n",
        "print(vif_data)"
      ],
      "execution_count": null,
      "outputs": []
    },
    {
      "cell_type": "code",
      "metadata": {
        "id": "SkHbB6XX3HhN"
      },
      "source": [
        ""
      ],
      "execution_count": null,
      "outputs": []
    },
    {
      "cell_type": "code",
      "metadata": {
        "id": "BSNHUeN-3IO2"
      },
      "source": [
        ""
      ],
      "execution_count": null,
      "outputs": []
    },
    {
      "cell_type": "code",
      "metadata": {
        "id": "NKLeIEQ0qowX"
      },
      "source": [
        "import seaborn as sns\r\n",
        "sns.heatmap(df.isnull())"
      ],
      "execution_count": null,
      "outputs": []
    },
    {
      "cell_type": "code",
      "metadata": {
        "id": "Eoq7PhjvpfeS"
      },
      "source": [
        "df.columns"
      ],
      "execution_count": null,
      "outputs": []
    },
    {
      "cell_type": "code",
      "metadata": {
        "id": "fnRkOTYSpjMP"
      },
      "source": [
        "df['search_id'].plot.box()"
      ],
      "execution_count": null,
      "outputs": []
    },
    {
      "cell_type": "code",
      "metadata": {
        "id": "ujXZPKRDptbV"
      },
      "source": [
        "df['site_id'].plot.box()"
      ],
      "execution_count": null,
      "outputs": []
    },
    {
      "cell_type": "code",
      "metadata": {
        "id": "G7-wuLTW5Bew"
      },
      "source": [
        ""
      ],
      "execution_count": null,
      "outputs": []
    },
    {
      "cell_type": "code",
      "metadata": {
        "id": "2z0xKRZJp2WS"
      },
      "source": [
        "df['user_country_id'].plot.box()"
      ],
      "execution_count": null,
      "outputs": []
    },
    {
      "cell_type": "code",
      "metadata": {
        "id": "xgyT1ZsQ4ogs"
      },
      "source": [
        "#Distribution graphs (histogram/bar graph) of column data \r\n",
        "\r\n",
        "def plotPerColumnDistribution(df, nGraphShown, nGraphPerRow):\r\n",
        "  nunique = df.nunique()\r\n",
        "  df=df[[col for col in df if nunique[col] > 1 and nunique[col]<50]]\r\n",
        "  #for displaying purposes, pick columns that have between 1 to 50 unique values\r\n",
        "  nROw, nCol = df.shape\r\n",
        "  columnNames = list(df)\r\n",
        "  nGraphRow = (nCol + nGraphPerRow - 1) / nGraphPerRow \r\n",
        "  plt.figure(num = None, figsize = (6 * nGraphPerRow, 8 * nGraphRow), dpi = 80, facecolor = 'w' , edgecolor = 'k')\r\n",
        "  for i in range(min(nCol, nGraphShown)):\r\n",
        "    plt.subplot(nGraphRow, nGraphPerRow, i + 1)\r\n",
        "    columnDf = df.iloc[:, i]\r\n",
        "    if (not np.issubdtype(type(columnDf.iloc[0]), np.number)):\r\n",
        "      valueCounts = columnDf.value_counts()\r\n",
        "      valueCounts.plot.bar()\r\n",
        "    else:\r\n",
        "      columnDf.hist()\r\n",
        "    plt.ylabel('counts')\r\n",
        "    plt.xticks(rotation = 90)\r\n",
        "    plt.title(f'{columnNames[i]} (column {i})')\r\n",
        "  plt.tight_layout(pad = 1.0, w_pad = 1.0, h_pad = 1.0)\r\n",
        "  plt.show()"
      ],
      "execution_count": null,
      "outputs": []
    },
    {
      "cell_type": "code",
      "metadata": {
        "id": "xQRkYhf04rkX"
      },
      "source": [
        "nRowsRead = 1000 # specify 'None' if want to read whole file\r\n",
        "nRow, nCol =df.shape"
      ],
      "execution_count": null,
      "outputs": []
    },
    {
      "cell_type": "code",
      "metadata": {
        "id": "UmQhmJJL9omu"
      },
      "source": [
        "print(f'There are {nRow} rows and {nCol} columns')"
      ],
      "execution_count": null,
      "outputs": []
    },
    {
      "cell_type": "code",
      "metadata": {
        "id": "Nn0S8XeC0rmF"
      },
      "source": [
        "import matplotlib.pyplot as plt\r\n",
        "import numpy as np\r\n",
        "\r\n",
        "plotPerColumnDistribution(df, 10, 5)\r\n"
      ],
      "execution_count": null,
      "outputs": []
    },
    {
      "cell_type": "code",
      "metadata": {
        "id": "s2cSZScg_J8V"
      },
      "source": [
        "# Correlation matrix\r\n",
        "def plotCorrelationMatrix(df, graphWidth):\r\n",
        "  filename =df\r\n",
        "  df = df.dropna('columns') # drop columns with NaN\r\n",
        "  df = df[[col for col in df if df[col].nunique() > 1]] # keep columns where there are more than 1 unique value \r\n",
        "  if df.shape[1] < 2:\r\n",
        "    print(f'No correlation plots shown: The number of non-NaN or constant columns({df.shape[1]}) is less than 2')\r\n",
        "    return\r\n",
        "  corr = df.corr()\r\n",
        "  plt.figure(num=None, figsize=(graphWidth, graphWidth), dpi=80, facecolor='w', edgecolor='k')\r\n",
        "  corrMat = plt.matshow(corr, fignum = 1)\r\n",
        "  plt.xticks(range(len(corr.columns)), corr.columns, rotation=90)\r\n",
        "  plt.yticks(range(len(corr.columns)), corr.columns)\r\n",
        "  plt.gca().xaxis.tick_bottom()\r\n",
        "  plt.colorbar(corrMat)\r\n",
        "  plt.title(f'correlation Matrix for {filename}',fontsize=15)\r\n",
        "  plt.show()"
      ],
      "execution_count": null,
      "outputs": []
    },
    {
      "cell_type": "code",
      "metadata": {
        "id": "I4bU2zPK_KlX"
      },
      "source": [
        ""
      ],
      "execution_count": null,
      "outputs": []
    },
    {
      "cell_type": "code",
      "metadata": {
        "id": "gOVtCR-g4QA2"
      },
      "source": [
        "# Correlation Matrix:\r\n",
        "plotCorrelationMatrix(df, 8)"
      ],
      "execution_count": null,
      "outputs": []
    },
    {
      "cell_type": "code",
      "metadata": {
        "id": "Id-d9vLfzVjG"
      },
      "source": [
        ""
      ],
      "execution_count": null,
      "outputs": []
    },
    {
      "cell_type": "code",
      "metadata": {
        "id": "H01MW3Zn-4nU"
      },
      "source": [
        "# Scatter and density plots\r\n",
        "def plotScatterMatrix(df, plotSize, textSize):\r\n",
        "    df = df.select_dtypes(include=[np.number]) # keep only numerical columns\r\n",
        "    # Remove rows and columns that would lead to df being singular \r\n",
        "    df = df.dropna('columns')\r\n",
        "    df = df[[col for col in df if df[col].nunique() > 1]] # keep columns where there are more than 1 unique values\r\n",
        "    columnNames = list(df)\r\n",
        "    if len(columnNames) > 10: # reduce the number of columns for matrix inversion of kernel density plots\r\n",
        "        columnNames = columnNames[:10]\r\n",
        "    df = df[columnNames]\r\n",
        "    ax = pd.plotting.scatter_matrix(df, alpha=0.75, figsize=[plotSize, plotSize], diagonal='kde')\r\n",
        "    corrs = df.corr().values\r\n",
        "    for i, j in zip(*plt.np.triu_indices_from(ax, k = 1)):\r\n",
        "        ax[i, j].annotate('Corr. coef = %.3f' % corrs[i, j], (0.8, 0.2), xycoords='axes fraction', ha='center', va='center', size=textSize)\r\n",
        "        plt.suptitle('Scatter and Density Plot')\r\n",
        "        plt.show()"
      ],
      "execution_count": null,
      "outputs": []
    },
    {
      "cell_type": "code",
      "metadata": {
        "id": "2s1iFyWjPPVI"
      },
      "source": [
        "plotScatterMatrix(df, 20, 10)\r\n"
      ],
      "execution_count": null,
      "outputs": []
    },
    {
      "cell_type": "code",
      "metadata": {
        "id": "TDW76ycnJ3z7"
      },
      "source": [
        "df['timestamp'] = df['timestamp'].astype('datetime64[ns]')"
      ],
      "execution_count": null,
      "outputs": []
    },
    {
      "cell_type": "code",
      "metadata": {
        "id": "pzJNzlpeKebr"
      },
      "source": [
        "df.info()"
      ],
      "execution_count": null,
      "outputs": []
    },
    {
      "cell_type": "code",
      "metadata": {
        "id": "rviilZNnACze"
      },
      "source": [
        "from sklearn.decomposition import PCA\r\n",
        "pca = PCA(n_components=25)"
      ],
      "execution_count": null,
      "outputs": []
    },
    {
      "cell_type": "code",
      "metadata": {
        "id": "dO2KLffF-680"
      },
      "source": [
        "df"
      ],
      "execution_count": null,
      "outputs": []
    },
    {
      "cell_type": "code",
      "metadata": {
        "id": "BLNDiOWhATo2"
      },
      "source": [
        "x = df.iloc[:,0:-1]\r\n",
        "x.head()"
      ],
      "execution_count": null,
      "outputs": []
    },
    {
      "cell_type": "code",
      "metadata": {
        "id": "kwFkfh8EUmP6"
      },
      "source": [
        "x"
      ],
      "execution_count": null,
      "outputs": []
    },
    {
      "cell_type": "code",
      "metadata": {
        "id": "dEawiN5QVPaJ"
      },
      "source": [
        "y = df.iloc[:,-1]\r\n",
        "y.head()"
      ],
      "execution_count": null,
      "outputs": []
    },
    {
      "cell_type": "code",
      "metadata": {
        "id": "JvQgFJUgVfGX"
      },
      "source": [
        "y"
      ],
      "execution_count": null,
      "outputs": []
    },
    {
      "cell_type": "code",
      "metadata": {
        "id": "MSE47NcaVfvZ"
      },
      "source": [
        "x.shape"
      ],
      "execution_count": null,
      "outputs": []
    },
    {
      "cell_type": "code",
      "metadata": {
        "id": "UYBX0Hx3Vpx1"
      },
      "source": [
        "y.shape"
      ],
      "execution_count": null,
      "outputs": []
    },
    {
      "cell_type": "code",
      "metadata": {
        "id": "lNMH4U3_VrJG"
      },
      "source": [
        "from sklearn.model_selection import train_test_splot,cross_val_score\r\n",
        "x_train,x_test,y_train,y_test=train_test_split(x,y,test_size=0.3,random_state=9,stratify=y)"
      ],
      "execution_count": null,
      "outputs": []
    },
    {
      "cell_type": "code",
      "metadata": {
        "id": "umOKiWppWG3h"
      },
      "source": [
        "print(x_train.shape,x_test.shape)"
      ],
      "execution_count": null,
      "outputs": []
    },
    {
      "cell_type": "code",
      "metadata": {
        "id": "9K9JxrSOWNxi"
      },
      "source": [
        "print(y_train.shape,y_test.shape)"
      ],
      "execution_count": null,
      "outputs": []
    },
    {
      "cell_type": "code",
      "metadata": {
        "id": "ZrRAMRfZWV3Z"
      },
      "source": [
        "from sklearn.neighbors import KNeighborsClassifier\r\n",
        "from sklearn.linear_model import LogisticRegression\r\n",
        "from sklearn.tree import DecisionTreeClassifier\r\n",
        "from sklearn.naive_bayes import GaussianNB\r\n"
      ],
      "execution_count": null,
      "outputs": []
    },
    {
      "cell_type": "code",
      "metadata": {
        "id": "WWRZgWAn4Ps-"
      },
      "source": [
        "KNN=KNeighborsClassifier(n_neighbors=6)\r\n",
        "LR=LogisticRegression()\r\n",
        "DT=DecisionTreeClassifier(random_state=6)\r\n",
        "GNB=GaussianNB()"
      ],
      "execution_count": null,
      "outputs": []
    },
    {
      "cell_type": "code",
      "metadata": {
        "id": "zG2h5ASB4i-A"
      },
      "source": [
        "models=[]\r\n",
        "models.append(('KNeighborsClassifier',KNN))\r\n",
        "models.append(('LogisticRegression',LR))\r\n",
        "models.append(('DecisionTreeClassifier',DT))\r\n",
        "models.append(('GaussianNB',GNB))\r\n"
      ],
      "execution_count": null,
      "outputs": []
    },
    {
      "cell_type": "code",
      "metadata": {
        "id": "KNU-pJpa5Apt"
      },
      "source": [
        "from sklearn.metrics import classification_report,confusion_matrix,accuracy_score,roc_curve,auc"
      ],
      "execution_count": null,
      "outputs": []
    },
    {
      "cell_type": "code",
      "metadata": {
        "id": "R1OwKBMw5aOq"
      },
      "source": [
        "Model = []\r\n",
        "score = []\r\n",
        "cvs = []\r\n",
        "rocscore = []\r\n",
        "for name,model in models:\r\n",
        "  print('********',name,'********')\r\n",
        "  print('/n')\r\n",
        "  Model.append(name)\r\n",
        "  model.fit(x_train,y_train)\r\n",
        "  print(model)\r\n",
        "  pre=model.predict(x_test)\r\n",
        "  print('\\n')\r\n",
        "  AS=accuracy_score(y_test,pre)\r\n",
        "  print('Accuracy_Score = ',AS)\r\n",
        "  score.append(AS*100)\r\n",
        "  print('\\n')\r\n",
        "  sc = cross_val_score(model, x, y , cv=10, scoring='accuracy').mean()\r\n",
        "  print('Cross_Val_Score = ',sc)\r\n",
        "  cvs.append(sc*100)\r\n",
        "  print('\\n')\r\n",
        "  false_positive_rate, true_positive_rate, thresholds = roc_curve(y_test,pre)\r\n",
        "  roc_auc = auc(false_positive_rate, true_positive_rate)\r\n",
        "  print('roc_auc_score = ',roc_auc)\r\n",
        "  rocscore.append(roc_auc*100)\r\n",
        "  print('\\n')\r\n",
        "  print('Classification_report\\n',Classification_report(y_test,pre))\r\n",
        "  print('\\n')\r\n",
        "  cm=confusion_matrix(y_test,pre)\r\n",
        "  print(cm)\r\n",
        "  print('\\n')\r\n",
        "  plt.figure(figsize=(10,40))\r\n",
        "  plt.subplot(911)\r\n",
        "  plt.title(name)\r\n",
        "  print(sns.heatmap(cm,annot=True))\r\n",
        "  plt.sunplot(912)\r\n",
        "  plt.title(name)\r\n",
        "  plt.plot(false_positive_rate, true_positive_rate, label='AUC = %0.2f'% roc_auc)\r\n",
        "  plt.plot([0,1],[0,1],'r--')\r\n",
        "  plt.legend(loc='lower right')\r\n",
        "  plt.ylabel('True Positive Rate')\r\n",
        "  plt.xlabel('False Postive Rate')\r\n",
        "  print('\\n\\n')\r\n",
        "\r\n",
        "\r\n",
        "\r\n"
      ],
      "execution_count": null,
      "outputs": []
    },
    {
      "cell_type": "code",
      "metadata": {
        "id": "JtrMFYwp_C6t"
      },
      "source": [
        "result = pd.DataFrame({'Model': Model,'Accuracy_score': score,'Cross_val_score':cvs,'Roc_auc_curve':rocscore})\r\n",
        "result"
      ],
      "execution_count": null,
      "outputs": []
    },
    {
      "cell_type": "code",
      "metadata": {
        "id": "CeEOHeSp_DvV"
      },
      "source": [
        "from sklearn.externals import joblib\r\n",
        "joblib.dump(KNN,'OTA.pkl')"
      ],
      "execution_count": null,
      "outputs": []
    },
    {
      "cell_type": "code",
      "metadata": {
        "id": "CHLQkRJG_EU9"
      },
      "source": [
        ""
      ],
      "execution_count": null,
      "outputs": []
    }
  ]
}